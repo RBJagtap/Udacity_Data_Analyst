{
 "cells": [
  {
   "cell_type": "markdown",
   "metadata": {},
   "source": [
    "### Summary of the Project"
   ]
  },
  {
   "cell_type": "markdown",
   "metadata": {
    "collapsed": true
   },
   "source": [
    "From the analysis of the Titanic dataset, it has been observed that number of survivals are less than number of died. This is due to the inadequate survival boats and equipments. Third class passengers survival rate is very less compared with rest of two, the reason behind may be that third class passenger are not having less prestige . It would be considered that female and child are less capable for surviving themself hence female and child get more preference during survival operation. It was also observed that, most of the passengers are from the Southumpton.\n",
    "\n",
    "Limitation - This dataset is incomplete in many fields like \"Ticket\", \"Parch\", \"Cabin\", \"Age\" and \"Embarked\" column. In first question I have used the same data as I was dealing with \"PassengerId\", \"Sex\" and \"Pclass\" (which are having complete value). But in the second question I carried out the data wrangling. I have selected the required columns and used 'dropna()' function, so that row related to empty element should be deleted. During practice, I found that when I applied 'dropna()' function to whole dataset then there were only 121 entries which possess complete values. So analysing the data with some missing information may lead to incorrect results and conclusions. For example, \n",
    "1] If we would have complete data regarding age of passengers then Age_group vs number of survivals result would be different. It may be posssible that oldsters survival rate would be higher than that of young ones"
   ]
  }
 ],
 "metadata": {
  "kernelspec": {
   "display_name": "Python 2",
   "language": "python",
   "name": "python2"
  },
  "language_info": {
   "codemirror_mode": {
    "name": "ipython",
    "version": 2
   },
   "file_extension": ".py",
   "mimetype": "text/x-python",
   "name": "python",
   "nbconvert_exporter": "python",
   "pygments_lexer": "ipython2",
   "version": "2.7.13"
  }
 },
 "nbformat": 4,
 "nbformat_minor": 2
}
